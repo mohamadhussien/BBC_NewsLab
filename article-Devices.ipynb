{
 "cells": [
  {
   "cell_type": "markdown",
   "metadata": {},
   "source": [
    "# <p style=\"text-align: center;\"> BBC News Labs Coding Exercise </p>  "
   ]
  },
  {
   "cell_type": "markdown",
   "metadata": {},
   "source": [
    "# Exploretary Data Analysis "
   ]
  },
  {
   "cell_type": "markdown",
   "metadata": {},
   "source": [
    "### Steps:\n",
    "    - Read the data file into Pandas DataFrame\n",
    "    - Check for missing values and impute or delete them\n",
    "    - check for duplicate rows or columns"
   ]
  },
  {
   "cell_type": "code",
   "execution_count": null,
   "metadata": {},
   "outputs": [],
   "source": [
    "import pandas as pd"
   ]
  },
  {
   "cell_type": "code",
   "execution_count": null,
   "metadata": {},
   "outputs": [],
   "source": [
    "# read dataset into Pandas DataFrame\n",
    "df = pd.read_csv('article-Devices.csv', header = 0)"
   ]
  },
  {
   "cell_type": "code",
   "execution_count": null,
   "metadata": {
    "scrolled": true
   },
   "outputs": [],
   "source": [
    "# get info about columns, rows, date types and null values\n",
    "df.info()"
   ]
  },
  {
   "cell_type": "code",
   "execution_count": null,
   "metadata": {
    "scrolled": true
   },
   "outputs": [],
   "source": [
    "# check dataframe was read correctly\n",
    "df.head()"
   ]
  },
  {
   "cell_type": "code",
   "execution_count": null,
   "metadata": {
    "scrolled": true
   },
   "outputs": [],
   "source": [
    "df.tail()"
   ]
  },
  {
   "cell_type": "code",
   "execution_count": null,
   "metadata": {
    "scrolled": true
   },
   "outputs": [],
   "source": [
    "# Change date column  inot datetime and set it as index to df\n",
    "df.set_index('Date', inplace=True)"
   ]
  },
  {
   "cell_type": "code",
   "execution_count": null,
   "metadata": {
    "scrolled": true
   },
   "outputs": [],
   "source": [
    "# First entry does not contain values( article puplished 13:05)\n",
    "# drop the row by index\n",
    "df.drop(df.index[0], inplace=True)"
   ]
  },
  {
   "cell_type": "code",
   "execution_count": null,
   "metadata": {
    "scrolled": true
   },
   "outputs": [],
   "source": [
    "# check if there are duplicates on Date column (False = The Value is Not a duplicate, True = The Value is a duplicate)\n",
    "if df.duplicated().all() == False:\n",
    "    print('Dataset does not contain duplicates')\n",
    "else:\n",
    "    print('Dataset contains duplicates')"
   ]
  },
  {
   "cell_type": "code",
   "execution_count": null,
   "metadata": {
    "scrolled": true
   },
   "outputs": [],
   "source": [
    "# show descriptive statas \n",
    "df.describe()"
   ]
  },
  {
   "cell_type": "markdown",
   "metadata": {},
   "source": [
    "## Q1. Output the percentage of people visiting the page via a mobile phone or a tablet device\n"
   ]
  },
  {
   "cell_type": "code",
   "execution_count": null,
   "metadata": {},
   "outputs": [],
   "source": [
    "# function to find percentage for each device of total\n",
    "def per_device(device = 'Mobile'):\n",
    "    total = df.sum(axis = 0)[0] # slice sum of total pvs for all devices. return single value (1435985)\n",
    "    device_percentage = df[device].sum(axis = 0)/total * 100 # percentage for specific device\n",
    "    return device, device_percentage\n",
    "    "
   ]
  },
  {
   "cell_type": "code",
   "execution_count": null,
   "metadata": {},
   "outputs": [],
   "source": [
    "Tablet= per_device('Tablet')\n",
    "Mobile= per_device('Mobile')"
   ]
  },
  {
   "cell_type": "code",
   "execution_count": null,
   "metadata": {},
   "outputs": [],
   "source": [
    "with open('mobile_tablet_percentage.txt', 'w') as f:\n",
    "    f.write('Device \\t Percentage \\n')\n",
    "    f.write('%s \\t %d \\n' % Mobile)\n",
    "    f.write('%s \\t %d \\n' % Tablet)\n",
    "    f.close()"
   ]
  },
  {
   "cell_type": "markdown",
   "metadata": {},
   "source": [
    "## Q2. Generate a text file containing a table listing the mean number of Total Page Views during each time period "
   ]
  },
  {
   "cell_type": "code",
   "execution_count": null,
   "metadata": {
    "scrolled": true
   },
   "outputs": [],
   "source": [
    "# add calculated column\n",
    "df['Avg.PVs.period'] = df.loc[:,'Mobile':'Smart TV'].mean(axis = 1)"
   ]
  },
  {
   "cell_type": "code",
   "execution_count": null,
   "metadata": {},
   "outputs": [],
   "source": [
    "# save the date and mean col to file\n",
    "df.to_csv('Avg_PVs_period.csv',columns = ['Avg.PVs.period'], index = True)"
   ]
  }
 ],
 "metadata": {
  "kernelspec": {
   "display_name": "Python 3",
   "language": "python",
   "name": "python3"
  },
  "language_info": {
   "codemirror_mode": {
    "name": "ipython",
    "version": 3
   },
   "file_extension": ".py",
   "mimetype": "text/x-python",
   "name": "python",
   "nbconvert_exporter": "python",
   "pygments_lexer": "ipython3",
   "version": "3.7.1"
  }
 },
 "nbformat": 4,
 "nbformat_minor": 1
}
